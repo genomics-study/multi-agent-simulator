{
 "cells": [
  {
   "cell_type": "markdown",
   "metadata": {},
   "source": [
    "## Multi-agent simulations"
   ]
  },
  {
   "cell_type": "code",
   "execution_count": 2,
   "metadata": {
    "scrolled": false
   },
   "outputs": [],
   "source": [
    "import numpy as np\n",
    "import tensorflow as tf\n",
    "import gym\n",
    "from gym import spaces\n",
    "import copy\n",
    "\n",
    "from stable_baselines.common.policies import *\n",
    "from stable_baselines.common.vec_env import DummyVecEnv\n",
    "from stable_baselines import *"
   ]
  },
  {
   "cell_type": "code",
   "execution_count": 3,
   "metadata": {},
   "outputs": [],
   "source": [
    "assert tf.version.VERSION[0] == '1'"
   ]
  },
  {
   "cell_type": "markdown",
   "metadata": {},
   "source": [
    "## Area generator"
   ]
  },
  {
   "cell_type": "code",
   "execution_count": 4,
   "metadata": {},
   "outputs": [],
   "source": [
    "def generate_area():\n",
    "    B = -10\n",
    "    BORDER = [B, B, B, B, B, B]\n",
    "    init_area = np.array([BORDER])\n",
    "    \n",
    "    for i in range(4):\n",
    "        row = np.random.random_sample(4) * 6\n",
    "        row = row.astype(int)\n",
    "        row = np.insert(row, 0, B)\n",
    "        row = np.append(row, B)\n",
    "        init_area = np.concatenate((init_area, [row]))\n",
    "    \n",
    "    init_area = np.concatenate((init_area, [BORDER]))\n",
    "    \n",
    "    return init_area"
   ]
  },
  {
   "cell_type": "markdown",
   "metadata": {},
   "source": [
    "## Agent definition"
   ]
  },
  {
   "cell_type": "code",
   "execution_count": 5,
   "metadata": {},
   "outputs": [],
   "source": [
    "stored_maps = []\n",
    "\n",
    "class Agent(gym.Env):\n",
    "    \n",
    "    def __init__(self, area):\n",
    "        self.area = area\n",
    "        self.reward_rangee = (0, 10)\n",
    "        self.action_space = spaces.Discrete(5)\n",
    "        self.observation_space = spaces.MultiDiscrete(nvec=[30, 30, 30, 30, 30, 30, 30, 30, 30])\n",
    "        \n",
    "    def reset(self):\n",
    "        self.fitness = 10\n",
    "        self.position = (1, 1)\n",
    "        self.reward_sum = 0\n",
    "        self.area = copy.deepcopy(generate_area())\n",
    "        \n",
    "        return self._next_observation()\n",
    "    \n",
    "    def _next_observation(self):\n",
    "        x, y = self.position\n",
    "        visible = self.area[x-1:x+2, x-1:x+2]\n",
    "        \n",
    "        return visible.reshape(9)\n",
    "    \n",
    "    def step(self, action):\n",
    "        \n",
    "        reward = 0\n",
    "        x, y = self.position\n",
    "        \n",
    "        if action < 4:\n",
    "            if action == 0:\n",
    "                new_y = y-1 if y>1 else y\n",
    "                self.position = x, new_y\n",
    "            if action == 1: \n",
    "                new_y = y+1 if y<4 else y\n",
    "                self.position = x, new_y\n",
    "            if action == 2:\n",
    "                new_x = x+1 if x<4 else x\n",
    "                self.position = new_x, y\n",
    "            if action == 3:\n",
    "                new_x = x-1 if x>1 else x\n",
    "                self.position = new_x, y\n",
    "            x, y = self.position\n",
    "            self.fitness -= 1\n",
    "        else:\n",
    "            self.reward_sum += self.area[x, y]\n",
    "            self.fitness += self.area[x, y]\n",
    "            reward = self.area[x, y]\n",
    "            self.area[x, y] = 0\n",
    "        \n",
    "        done = self.fitness <= 0\n",
    "        \n",
    "        obs = self._next_observation()\n",
    "        \n",
    "        return obs, reward, done, {}\n",
    "    \n",
    "    def render(self, mode='human', close=False):\n",
    "        copied_map = copy.deepcopy(self.area)\n",
    "        x, y = self.position\n",
    "        copied_map[x,y] = -12\n",
    "        stored_maps.append(copied_map)       \n",
    "        print(self.reward_sum)"
   ]
  },
  {
   "cell_type": "code",
   "execution_count": 6,
   "metadata": {},
   "outputs": [],
   "source": [
    "env = DummyVecEnv([lambda: Agent(generate_area())])"
   ]
  },
  {
   "cell_type": "markdown",
   "metadata": {},
   "source": [
    "## Training"
   ]
  },
  {
   "cell_type": "code",
   "execution_count": null,
   "metadata": {
    "scrolled": false
   },
   "outputs": [],
   "source": [
    "model = A2C(MlpPolicy, env, verbose=0)\n",
    "model.learn(total_timesteps=30000)"
   ]
  },
  {
   "cell_type": "markdown",
   "metadata": {},
   "source": [
    "## Simulation"
   ]
  },
  {
   "cell_type": "code",
   "execution_count": 8,
   "metadata": {
    "scrolled": true
   },
   "outputs": [
    {
     "name": "stdout",
     "output_type": "stream",
     "text": [
      "0\n",
      "2\n",
      "2\n",
      "2\n",
      "2\n",
      "3\n",
      "3\n",
      "7\n",
      "7\n",
      "7\n",
      "7\n",
      "7\n",
      "7\n",
      "11\n",
      "11\n",
      "13\n",
      "13\n",
      "13\n",
      "13\n",
      "13\n",
      "13\n",
      "13\n",
      "13\n",
      "13\n",
      "13\n",
      "13\n",
      "13\n",
      "13\n",
      "13\n",
      "13\n",
      "13\n",
      "13\n",
      "13\n",
      "13\n",
      "13\n",
      "13\n",
      "15\n",
      "15\n",
      "15\n",
      "15\n",
      "15\n",
      "15\n",
      "15\n",
      "15\n",
      "15\n",
      "15\n",
      "15\n",
      "17\n",
      "17\n",
      "19\n",
      "19\n",
      "19\n",
      "19\n",
      "19\n",
      "19\n",
      "19\n",
      "19\n",
      "19\n",
      "19\n",
      "19\n",
      "19\n",
      "19\n",
      "22\n",
      "22\n",
      "22\n",
      "25\n",
      "25\n",
      "25\n",
      "25\n",
      "25\n",
      "25\n",
      "25\n",
      "28\n",
      "28\n",
      "28\n",
      "33\n",
      "33\n",
      "33\n",
      "33\n",
      "33\n",
      "33\n",
      "33\n",
      "33\n",
      "33\n",
      "33\n",
      "33\n",
      "33\n",
      "36\n",
      "36\n",
      "36\n",
      "36\n",
      "36\n",
      "36\n",
      "0\n",
      "1\n",
      "1\n",
      "1\n",
      "2\n",
      "2\n",
      "2\n",
      "2\n",
      "2\n",
      "2\n",
      "5\n",
      "5\n",
      "5\n",
      "8\n",
      "8\n",
      "10\n",
      "10\n",
      "11\n",
      "11\n",
      "11\n",
      "11\n",
      "14\n",
      "14\n",
      "14\n",
      "14\n",
      "14\n",
      "14\n",
      "14\n",
      "14\n",
      "14\n",
      "14\n",
      "14\n",
      "14\n",
      "14\n",
      "14\n",
      "14\n",
      "15\n",
      "15\n",
      "15\n",
      "15\n",
      "15\n",
      "15\n",
      "15\n",
      "15\n",
      "15\n",
      "15\n",
      "15\n",
      "15\n",
      "15\n",
      "15\n",
      "15\n",
      "15\n",
      "15\n",
      "15\n",
      "15\n",
      "15\n",
      "15\n",
      "15\n",
      "15\n",
      "15\n",
      "15\n",
      "15\n",
      "0\n",
      "3\n",
      "3\n",
      "3\n",
      "6\n",
      "6\n",
      "6\n",
      "6\n",
      "6\n",
      "6\n",
      "6\n",
      "6\n",
      "6\n",
      "6\n",
      "9\n",
      "9\n",
      "13\n",
      "13\n",
      "13\n",
      "13\n",
      "13\n",
      "13\n",
      "13\n",
      "13\n",
      "13\n",
      "13\n",
      "13\n",
      "13\n",
      "13\n",
      "13\n",
      "13\n",
      "17\n",
      "17\n",
      "19\n",
      "19\n",
      "19\n",
      "19\n",
      "19\n",
      "19\n",
      "19\n",
      "19\n",
      "19\n",
      "19\n",
      "19\n",
      "19\n"
     ]
    }
   ],
   "source": [
    "obs = env.reset()\n",
    "for i in range(200):\n",
    "    action, _states = model.predict(obs)\n",
    "    obs, rewards, done, info = env.step(action)\n",
    "    env.render()"
   ]
  },
  {
   "cell_type": "markdown",
   "metadata": {},
   "source": [
    "## Visualization"
   ]
  },
  {
   "cell_type": "code",
   "execution_count": 9,
   "metadata": {},
   "outputs": [],
   "source": [
    "import matplotlib.pyplot as plt\n",
    "from matplotlib.animation import FuncAnimation\n",
    "from celluloid import Camera"
   ]
  },
  {
   "cell_type": "code",
   "execution_count": 10,
   "metadata": {
    "scrolled": true
   },
   "outputs": [
    {
     "data": {
      "image/png": "[encoded data removed]",
      "text/plain": [
       "<Figure size 432x288 with 1 Axes>"
      ]
     },
     "metadata": {
      "needs_background": "light"
     },
     "output_type": "display_data"
    }
   ],
   "source": [
    "fig = plt.figure()\n",
    "camera = Camera(fig)\n",
    "for i in range(200):\n",
    "    plt.pcolor(stored_maps[i])\n",
    "    camera.snap()\n",
    "animation = camera.animate()\n",
    "animation.save('simulation4.gif', writer = 'imagemagick')"
   ]
  }
 ],
 "metadata": {
  "kernelspec": {
   "display_name": "venv",
   "language": "python",
   "name": "venv"
  },
  "language_info": {
   "codemirror_mode": {
    "name": "ipython",
    "version": 3
   },
   "file_extension": ".py",
   "mimetype": "text/x-python",
   "name": "python",
   "nbconvert_exporter": "python",
   "pygments_lexer": "ipython3",
   "version": "3.7.7"
  }
 },
 "nbformat": 4,
 "nbformat_minor": 4
}
